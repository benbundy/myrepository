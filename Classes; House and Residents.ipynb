{
 "cells": [
  {
   "cell_type": "code",
   "execution_count": 88,
   "metadata": {},
   "outputs": [],
   "source": [
    "class House:\n",
    "    def __init__(self, house_number, color, rooms):\n",
    "        self.house_number = house_number\n",
    "        self.street = \"\"\n",
    "        self.address = str(self.house_number) + \" \" + self.street\n",
    "        self.color = color\n",
    "        self.rooms = rooms\n",
    "        self.residents = []\n",
    "        \n",
    "    def add_resident(self, person):\n",
    "        self.residents.append(person)\n",
    "        \n",
    "    def show_residents(self):\n",
    "        print(self.residents)\n",
    "        \n",
    "    def add_street(self, street):\n",
    "        if street in CityStreets:\n",
    "            self.street = street\n",
    "            self.address = str(self.house_number) + \" \" + street\n",
    "        else:\n",
    "            print(\"That street doesn't exist here\")\n",
    "        \n",
    "        \n",
    "class Person:\n",
    "    def __init__(self, firstname, lastname, age, gender):\n",
    "        self.firstname = firstname\n",
    "        self.lastname = lastname\n",
    "        self.age = age\n",
    "        self.gender = gender\n",
    "        self.residence = []\n",
    "    \n",
    "    def change_residence(self, House):\n",
    "        if len(self.residence) < 1:\n",
    "            self.residence = House\n",
    "        else:\n",
    "            self.residence = []\n",
    "            self.residence.append(House)\n",
    "\n",
    "CityStreets = []\n",
    "\n",
    "class Street:\n",
    "    def __init__(self, name):\n",
    "        self.name = name\n",
    "        CityStreets.append(name)\n",
    "        "
   ]
  },
  {
   "cell_type": "code",
   "execution_count": 71,
   "metadata": {},
   "outputs": [],
   "source": [
    "Ben = Person(\"Ben\", \"Bundy\", 29, \"Male\")\n",
    "Beka = Person(\"Beka\", \"Bundy\", 26, \"Female\")\n",
    "Sarah = Person(\"Sarah\", \"Bundy\", 24, \"Female\")\n",
    "Roy = Person(\"Roy\", \"Bundy\", 60, \"Male\")\n",
    "Willa = Person(\"Willa\", \"Bundy\", 56, \"Female\")\n",
    "\n",
    "Derek = Person(\"Derek\", \"Duckworth\", 65, \"Male\")\n",
    "Jan = Person(\"Jan\", \"Duckworth\", 63, \"Female\")\n",
    "Ben = Person(\"Ben\", \"Duckworth\", 27, \"Male\")\n",
    "\n",
    "BundyResidence = House(\"2052\", \"Orange brick\", 4)\n",
    "DuckworthResidence = House(\"2051\", \"Red brick\", 3)"
   ]
  },
  {
   "cell_type": "code",
   "execution_count": null,
   "metadata": {},
   "outputs": [],
   "source": [
    "BundyResidence.add_resident(Ben)"
   ]
  },
  {
   "cell_type": "code",
   "execution_count": null,
   "metadata": {},
   "outputs": [],
   "source": [
    "BundyResidence.add_resident(Beka)\n",
    "BundyResidence.add_resident(Sarah)"
   ]
  },
  {
   "cell_type": "code",
   "execution_count": null,
   "metadata": {},
   "outputs": [],
   "source": [
    "DuckworthResidence.add_resident(Derek)"
   ]
  },
  {
   "cell_type": "code",
   "execution_count": null,
   "metadata": {},
   "outputs": [],
   "source": [
    "blank = DuckworthResidence.show_residents\n",
    "\n",
    "blank"
   ]
  },
  {
   "cell_type": "code",
   "execution_count": null,
   "metadata": {},
   "outputs": [],
   "source": [
    "len(DuckworthResidence.residents)"
   ]
  },
  {
   "cell_type": "code",
   "execution_count": null,
   "metadata": {},
   "outputs": [],
   "source": [
    "len(BundyResidence.residents)"
   ]
  },
  {
   "cell_type": "code",
   "execution_count": 61,
   "metadata": {},
   "outputs": [],
   "source": [
    "\n",
    "    "
   ]
  },
  {
   "cell_type": "code",
   "execution_count": 89,
   "metadata": {},
   "outputs": [],
   "source": [
    "SanLin = Street(\"San Lin\")"
   ]
  },
  {
   "cell_type": "code",
   "execution_count": 90,
   "metadata": {},
   "outputs": [],
   "source": [
    "BundyResidence.add_street(\"San Lin\")"
   ]
  },
  {
   "cell_type": "code",
   "execution_count": 91,
   "metadata": {},
   "outputs": [
    {
     "data": {
      "text/plain": [
       "'2052 '"
      ]
     },
     "execution_count": 91,
     "metadata": {},
     "output_type": "execute_result"
    }
   ],
   "source": [
    "BundyResidence.address"
   ]
  },
  {
   "cell_type": "code",
   "execution_count": null,
   "metadata": {},
   "outputs": [],
   "source": []
  }
 ],
 "metadata": {
  "kernelspec": {
   "display_name": "Python 3",
   "language": "python",
   "name": "python3"
  },
  "language_info": {
   "codemirror_mode": {
    "name": "ipython",
    "version": 3
   },
   "file_extension": ".py",
   "mimetype": "text/x-python",
   "name": "python",
   "nbconvert_exporter": "python",
   "pygments_lexer": "ipython3",
   "version": "3.8.3"
  }
 },
 "nbformat": 4,
 "nbformat_minor": 4
}
